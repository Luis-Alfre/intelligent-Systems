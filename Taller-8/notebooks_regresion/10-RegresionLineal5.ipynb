{
 "cells": [
  {
   "cell_type": "markdown",
   "metadata": {},
   "source": [
    "# Regresión Lineal Regularizada II\n",
    "\n",
    "## Selección del parámetro de penalización l2 (alfa) en la Regresión Lineal Ridge\n",
    "\n",
    "## Validación Cruzada y Selección de Atributos"
   ]
  },
  {
   "cell_type": "markdown",
   "metadata": {},
   "source": [
    "Al igual que el grado polinomial, la penalización L2 es un parámetro \"mágico\" que debemos seleccionar. Podríamos utilizar el enfoque de validación como lo hicimos en anteriormente, pero ese enfoque tiene una gran desventaja: deja menos observaciones disponibles para el entrenamiento. La validación cruzada busca superar este problema utilizando todo el conjunto de entrenamiento de una manera inteligente.\n",
    "\n",
    "<img src=\"figuras/division_datos.png\" width=\"75%\">\n",
    "\n",
    "Implementaremos una especie de validación cruzada llamada validación cruzada \"k-fold\". El método obtiene su nombre porque implica dividir el conjunto de entrenamiento en k segmentos de tamaño prácticamente igual. Similar al método del conjunto de validación, medimos el error de validación con uno de los segmentos designados como el conjunto de validación. \n",
    "\n",
    "La diferencia principal es que repetimos el proceso k veces de la siguiente manera:\n",
    "\n",
    "- Seleccione el segmento 0 como el conjunto de validación y ajuste un modelo en el resto de los datos y evalúelo con  este conjunto de validación\n",
    "- Seleccione el segmento 1 como el conjunto de validación y ajuste un modelo en el resto de los datos y evalúelo con este conjunto de validación\n",
    "- ...\n",
    "- Seleccione el segmento k-1 como el conjunto de validación y ajuste un modelo en el resto de los datos y evalúelo con este conjunto de validación\n",
    "\n",
    "<img src=\"figuras/validacion_cruzada.png\" width=\"75%\">\n",
    "\n",
    "Después de este proceso, calculamos el promedio de los k errores de validación, y lo usamos como una estimación del error de generalización. Observe que todas las observaciones se usan tanto para el entrenamiento como para la validación, a medida que iteramos sobre segmentos de datos.\n",
    "\n",
    "Para estimar bien el error de generalización, es crucial mezclar los datos de entrenamiento antes de dividirlos en segmentos. Reservamos el 10% de los datos como conjunto de prueba y barajamos el resto. (Asegúrese de usar random_state = 0 para obtener una respuesta consistente.)"
   ]
  },
  {
   "cell_type": "code",
   "execution_count": 1,
   "metadata": {
    "tags": []
   },
   "outputs": [],
   "source": [
    "import math\n",
    "import random\n",
    "import numpy as np\n",
    "import pandas as pd\n",
    "from sklearn.linear_model import LinearRegression, Ridge, Lasso\n",
    "from sklearn.model_selection import train_test_split\n",
    "from sklearn.utils import shuffle\n",
    "from sklearn.metrics import mean_squared_error\n",
    "from matplotlib import pyplot as plt\n",
    "%matplotlib inline"
   ]
  },
  {
   "cell_type": "markdown",
   "metadata": {},
   "source": [
    "### Lectura de los datos"
   ]
  },
  {
   "cell_type": "code",
   "execution_count": 2,
   "metadata": {
    "tags": []
   },
   "outputs": [
    {
     "data": {
      "text/plain": [
       "['bedrooms',\n",
       " 'bathrooms',\n",
       " 'sqft_living',\n",
       " 'sqft_lot',\n",
       " 'floors',\n",
       " 'waterfront',\n",
       " 'view',\n",
       " 'condition',\n",
       " 'grade',\n",
       " 'sqft_above',\n",
       " 'sqft_basement',\n",
       " 'yr_built',\n",
       " 'yr_renovated',\n",
       " 'zipcode',\n",
       " 'lat',\n",
       " 'long',\n",
       " 'sqft_living15',\n",
       " 'sqft_lot15']"
      ]
     },
     "execution_count": 2,
     "metadata": {},
     "output_type": "execute_result"
    }
   ],
   "source": [
    "ventas = pd.read_csv('datos/kc_house_data.csv')\n",
    "ventas = shuffle(ventas)\n",
    "atributos = list(ventas)\n",
    "atributos.remove('price')\n",
    "atributos.remove('date')\n",
    "atributos.remove('id')\n",
    "atributos"
   ]
  },
  {
   "cell_type": "markdown",
   "metadata": {},
   "source": [
    "### Dividir los datos en dos conjuntos uno de entrenamiento y validación y el otro de prueba"
   ]
  },
  {
   "cell_type": "code",
   "execution_count": 3,
   "metadata": {},
   "outputs": [
    {
     "data": {
      "text/html": [
       "<div>\n",
       "<style scoped>\n",
       "    .dataframe tbody tr th:only-of-type {\n",
       "        vertical-align: middle;\n",
       "    }\n",
       "\n",
       "    .dataframe tbody tr th {\n",
       "        vertical-align: top;\n",
       "    }\n",
       "\n",
       "    .dataframe thead th {\n",
       "        text-align: right;\n",
       "    }\n",
       "</style>\n",
       "<table border=\"1\" class=\"dataframe\">\n",
       "  <thead>\n",
       "    <tr style=\"text-align: right;\">\n",
       "      <th></th>\n",
       "      <th>id</th>\n",
       "      <th>date</th>\n",
       "      <th>price</th>\n",
       "      <th>bedrooms</th>\n",
       "      <th>bathrooms</th>\n",
       "      <th>sqft_living</th>\n",
       "      <th>sqft_lot</th>\n",
       "      <th>floors</th>\n",
       "      <th>waterfront</th>\n",
       "      <th>view</th>\n",
       "      <th>...</th>\n",
       "      <th>grade</th>\n",
       "      <th>sqft_above</th>\n",
       "      <th>sqft_basement</th>\n",
       "      <th>yr_built</th>\n",
       "      <th>yr_renovated</th>\n",
       "      <th>zipcode</th>\n",
       "      <th>lat</th>\n",
       "      <th>long</th>\n",
       "      <th>sqft_living15</th>\n",
       "      <th>sqft_lot15</th>\n",
       "    </tr>\n",
       "  </thead>\n",
       "  <tbody>\n",
       "    <tr>\n",
       "      <th>14125</th>\n",
       "      <td>8086000201</td>\n",
       "      <td>20141204T000000</td>\n",
       "      <td>875000.0</td>\n",
       "      <td>3</td>\n",
       "      <td>2.50</td>\n",
       "      <td>1820</td>\n",
       "      <td>6848</td>\n",
       "      <td>1.0</td>\n",
       "      <td>0</td>\n",
       "      <td>0</td>\n",
       "      <td>...</td>\n",
       "      <td>7</td>\n",
       "      <td>1820</td>\n",
       "      <td>0</td>\n",
       "      <td>1953</td>\n",
       "      <td>0</td>\n",
       "      <td>98004</td>\n",
       "      <td>47.6287</td>\n",
       "      <td>-122.207</td>\n",
       "      <td>2080</td>\n",
       "      <td>11700</td>\n",
       "    </tr>\n",
       "    <tr>\n",
       "      <th>20687</th>\n",
       "      <td>7203140270</td>\n",
       "      <td>20140515T000000</td>\n",
       "      <td>386380.0</td>\n",
       "      <td>3</td>\n",
       "      <td>2.50</td>\n",
       "      <td>1720</td>\n",
       "      <td>3600</td>\n",
       "      <td>2.0</td>\n",
       "      <td>0</td>\n",
       "      <td>0</td>\n",
       "      <td>...</td>\n",
       "      <td>7</td>\n",
       "      <td>1720</td>\n",
       "      <td>0</td>\n",
       "      <td>2010</td>\n",
       "      <td>0</td>\n",
       "      <td>98053</td>\n",
       "      <td>47.6856</td>\n",
       "      <td>-122.013</td>\n",
       "      <td>1720</td>\n",
       "      <td>3600</td>\n",
       "    </tr>\n",
       "    <tr>\n",
       "      <th>21403</th>\n",
       "      <td>8562790580</td>\n",
       "      <td>20150428T000000</td>\n",
       "      <td>830000.0</td>\n",
       "      <td>4</td>\n",
       "      <td>3.25</td>\n",
       "      <td>3080</td>\n",
       "      <td>4287</td>\n",
       "      <td>2.0</td>\n",
       "      <td>0</td>\n",
       "      <td>0</td>\n",
       "      <td>...</td>\n",
       "      <td>10</td>\n",
       "      <td>2230</td>\n",
       "      <td>850</td>\n",
       "      <td>2012</td>\n",
       "      <td>0</td>\n",
       "      <td>98027</td>\n",
       "      <td>47.5313</td>\n",
       "      <td>-122.076</td>\n",
       "      <td>2250</td>\n",
       "      <td>2520</td>\n",
       "    </tr>\n",
       "    <tr>\n",
       "      <th>18453</th>\n",
       "      <td>8898700820</td>\n",
       "      <td>20140707T000000</td>\n",
       "      <td>170500.0</td>\n",
       "      <td>2</td>\n",
       "      <td>1.00</td>\n",
       "      <td>1060</td>\n",
       "      <td>7700</td>\n",
       "      <td>1.0</td>\n",
       "      <td>0</td>\n",
       "      <td>0</td>\n",
       "      <td>...</td>\n",
       "      <td>7</td>\n",
       "      <td>820</td>\n",
       "      <td>240</td>\n",
       "      <td>1981</td>\n",
       "      <td>0</td>\n",
       "      <td>98055</td>\n",
       "      <td>47.4599</td>\n",
       "      <td>-122.205</td>\n",
       "      <td>1370</td>\n",
       "      <td>8833</td>\n",
       "    </tr>\n",
       "    <tr>\n",
       "      <th>11113</th>\n",
       "      <td>6163901433</td>\n",
       "      <td>20141126T000000</td>\n",
       "      <td>425000.0</td>\n",
       "      <td>4</td>\n",
       "      <td>2.25</td>\n",
       "      <td>2200</td>\n",
       "      <td>8384</td>\n",
       "      <td>1.0</td>\n",
       "      <td>0</td>\n",
       "      <td>0</td>\n",
       "      <td>...</td>\n",
       "      <td>7</td>\n",
       "      <td>1250</td>\n",
       "      <td>950</td>\n",
       "      <td>1959</td>\n",
       "      <td>0</td>\n",
       "      <td>98155</td>\n",
       "      <td>47.7530</td>\n",
       "      <td>-122.317</td>\n",
       "      <td>1750</td>\n",
       "      <td>8384</td>\n",
       "    </tr>\n",
       "  </tbody>\n",
       "</table>\n",
       "<p>5 rows × 21 columns</p>\n",
       "</div>"
      ],
      "text/plain": [
       "               id             date     price  bedrooms  bathrooms  \\\n",
       "14125  8086000201  20141204T000000  875000.0         3       2.50   \n",
       "20687  7203140270  20140515T000000  386380.0         3       2.50   \n",
       "21403  8562790580  20150428T000000  830000.0         4       3.25   \n",
       "18453  8898700820  20140707T000000  170500.0         2       1.00   \n",
       "11113  6163901433  20141126T000000  425000.0         4       2.25   \n",
       "\n",
       "       sqft_living  sqft_lot  floors  waterfront  view  ...  grade  \\\n",
       "14125         1820      6848     1.0           0     0  ...      7   \n",
       "20687         1720      3600     2.0           0     0  ...      7   \n",
       "21403         3080      4287     2.0           0     0  ...     10   \n",
       "18453         1060      7700     1.0           0     0  ...      7   \n",
       "11113         2200      8384     1.0           0     0  ...      7   \n",
       "\n",
       "       sqft_above  sqft_basement  yr_built  yr_renovated  zipcode      lat  \\\n",
       "14125        1820              0      1953             0    98004  47.6287   \n",
       "20687        1720              0      2010             0    98053  47.6856   \n",
       "21403        2230            850      2012             0    98027  47.5313   \n",
       "18453         820            240      1981             0    98055  47.4599   \n",
       "11113        1250            950      1959             0    98155  47.7530   \n",
       "\n",
       "          long  sqft_living15  sqft_lot15  \n",
       "14125 -122.207           2080       11700  \n",
       "20687 -122.013           1720        3600  \n",
       "21403 -122.076           2250        2520  \n",
       "18453 -122.205           1370        8833  \n",
       "11113 -122.317           1750        8384  \n",
       "\n",
       "[5 rows x 21 columns]"
      ]
     },
     "execution_count": 3,
     "metadata": {},
     "output_type": "execute_result"
    }
   ],
   "source": [
    "ventas_entre_val, ventas_prueba = train_test_split(ventas, test_size=0.1, random_state=0)\n",
    "ventas_entre_val.head()"
   ]
  },
  {
   "cell_type": "markdown",
   "metadata": {},
   "source": [
    "### Crear los segmentos del conjunto de entrenamiento y validación \n",
    "Una vez que los datos son barajados, lo dividimos en segmentos iguales. Cada segmento debe recibir `n/k` elementos, donde `n` es el número de observaciones en el conjunto de entrenamiento y `k` es el número de segmentos. Puesto que el segmento 0 comienza en el índice 0 y contiene `n/k` elementos, termina en el índice `(n/k)-1`. El segmento 1 comienza donde el segmento 0 se detuvo, en el índice `(n/k)`. Con `n/k` elementos, el segmento 1 termina en el índice `(n*2/k)-1`. Continuando de esta manera, deducimos que el segmento `i` comienza en el índice `(n*i/k)` y termina en `(n*(i+1)/k)-1`.\n",
    "Con este patrón en mente, escribimos un lazo corto que imprime los índices inicial y final de cada segmento, sólo para asegurarse de que está haciendo las divisiones correctas."
   ]
  },
  {
   "cell_type": "code",
   "execution_count": 4,
   "metadata": {},
   "outputs": [
    {
     "name": "stdout",
     "output_type": "stream",
     "text": [
      "0 (0, 1944)\n",
      "1 (1945, 3889)\n",
      "2 (3890, 5834)\n",
      "3 (5835, 7779)\n",
      "4 (7780, 9724)\n",
      "5 (9725, 11669)\n",
      "6 (11670, 13614)\n",
      "7 (13615, 15559)\n",
      "8 (15560, 17504)\n",
      "9 (17505, 19450)\n"
     ]
    }
   ],
   "source": [
    "n = len(ventas_entre_val)\n",
    "k = 10 # validación cruzada 10-fold\n",
    "\n",
    "for i in range(k):\n",
    "    inicio = (n*i)//k\n",
    "    fin = (n*(i+1))//k-1\n",
    "    print(i, (inicio, fin))"
   ]
  },
  {
   "cell_type": "markdown",
   "metadata": {},
   "source": [
    "### Definiciones de algunas funciones de utilidad"
   ]
  },
  {
   "cell_type": "code",
   "execution_count": 5,
   "metadata": {
    "tags": []
   },
   "outputs": [],
   "source": [
    "def imprimir_coefficientes(modelo):    \n",
    "    # Obtener el grado del polinomio\n",
    "    grado = len(modelo.coef_)\n",
    "\n",
    "    # Obtener los parámetros aprendidos como una lista\n",
    "    w = [modelo.intercept_]\n",
    "    w += (modelo.coef_).tolist()\n",
    "    # Numpy tiene un a función para imprimir polinomios de manera elegante\n",
    "    # (La usaremos, pero necesita los parámetros en orden inverso)\n",
    "    print ('Polinomio de grado ' + str(grado) + ':')\n",
    "    w.reverse()\n",
    "    print (np.poly1d(w))"
   ]
  },
  {
   "cell_type": "markdown",
   "metadata": {},
   "source": [
    "Ahora implementaremos la validación cruzada k-fold. Definiremos una función que calcule los k errores de validación designando cada uno de los k segmentos como el conjunto de validación. Acepta como parámetros (i) `k`, (ii)` penalidad_l2`, (iii) los datos de entrenamiento, (iv) la salida (v) lista de atributos. La función devuelve el error de validación medio usando k segmentos como conjuntos de validación.\n",
    "\n",
    "* Para cada `i` en `[0, 1, ..., k-1]`:\n",
    "   * Calcular los índices de inicio y fin del segmento i y llamar 'inicio' y 'fin'\n",
    "   * Crear el conjunto de validación tomando una porción `(inicio: fin + 1)` de los datos.\n",
    "   * Crear el conjunto entrenamiento fijado añadiendo la rebanada `(fin + 1: n)` al final de la rebanada `(0: inicio)`.\n",
    "   * Entrenar un modelo lineal usando un conjunto de entrenamiento recién formado, con una `penalidad_l2` dada\n",
    "   * Calcule el error de validación usando el conjunto de validación recién creado"
   ]
  },
  {
   "cell_type": "code",
   "execution_count": 6,
   "metadata": {
    "tags": []
   },
   "outputs": [],
   "source": [
    "def validacion_cruzada_k_fold(algoritmo, k, penalidad_l2, data, salida, lista_atributos):\n",
    "    n = len(data)\n",
    "    rss = 0\n",
    "    mse = 0\n",
    "    modelo = algoritmo(alpha=penalidad_l2)\n",
    "    X = data[lista_atributos]\n",
    "    y = data[salida]\n",
    "    for i in range(k):\n",
    "        inicio = (n*i)//k\n",
    "        fin = (n*(i+1))//k-1\n",
    "        X_validacion = X[inicio: fin+1]\n",
    "        y_validacion = y[inicio: fin+1]\n",
    "        X_entrenamiento = X[0:inicio]\n",
    "        y_entrenamiento = y[0:inicio]\n",
    "        ultimo_X = X[fin+1:n]\n",
    "        ultimo_y = y[fin+1:n]\n",
    "        X_entrenamiento = X_entrenamiento.append(ultimo_X)\n",
    "        y_entrenamiento = y_entrenamiento.append(ultimo_y)\n",
    "        modelo.fit(X_entrenamiento, y_entrenamiento)\n",
    "        mse += mean_squared_error(y_validacion, modelo.predict(X_validacion))\n",
    "    mse = mse / k\n",
    "    return mse"
   ]
  },
  {
   "cell_type": "markdown",
   "metadata": {},
   "source": [
    "Una vez que tenemos una función para calcular el error de validación promedio de un modelo, podemos escribir un lazo para encontrar el modelo que minimiza el error de validación promedio. Escriba un lazo que haga lo siguiente:\n",
    "Estaremos nuevamente ajustando un modelo polinomial de grado 15 usando la entrada `sqft_living`\n",
    "Con la `penalidad_l2` en `[10^1, 10^1.5, 10^2, 10^2.5, ..., 10^7]` (para obtener esto en Python, puede utilizar esta función Numpy: `np.logspace(1, 7, Num = 13)`\n",
    "Ejecutar validación cruzada de 10-fold con `penalidad_l2`\n",
    "Informe qué penalización de L2 produjo el error de validación promedio más bajo."
   ]
  },
  {
   "cell_type": "code",
   "execution_count": 7,
   "metadata": {
    "tags": []
   },
   "outputs": [
    {
     "name": "stderr",
     "output_type": "stream",
     "text": [
      "C:\\Users\\Orlando\\Anaconda3\\lib\\site-packages\\pandas\\core\\indexing.py:1667: SettingWithCopyWarning: \n",
      "A value is trying to be set on a copy of a slice from a DataFrame.\n",
      "Try using .loc[row_indexer,col_indexer] = value instead\n",
      "\n",
      "See the caveats in the documentation: https://pandas.pydata.org/pandas-docs/stable/user_guide/indexing.html#returning-a-view-versus-a-copy\n",
      "  self.obj[key] = value\n"
     ]
    },
    {
     "data": {
      "text/plain": [
       "<matplotlib.collections.PathCollection at 0x13a6d696fa0>"
      ]
     },
     "execution_count": 7,
     "metadata": {},
     "output_type": "execute_result"
    },
    {
     "data": {
      "image/png": "[encoded data removed]",
      "text/plain": [
       "<Figure size 432x288 with 1 Axes>"
      ]
     },
     "metadata": {
      "needs_background": "light"
     },
     "output_type": "display_data"
    }
   ],
   "source": [
    "penalidad_l2 = np.logspace(-1, 0.1, num=20)\n",
    "mse = np.empty(len(penalidad_l2))\n",
    "data = ventas_entre_val[atributos]\n",
    "mis_atributos = list(data)\n",
    "data.loc[:,'price'] = ventas_entre_val['price']\n",
    "plt.scatter(penalidad_l2,np.zeros(20))\n"
   ]
  },
  {
   "cell_type": "code",
   "execution_count": 9,
   "metadata": {},
   "outputs": [
    {
     "name": "stdout",
     "output_type": "stream",
     "text": [
      "[4.07998080e+10 4.07998026e+10 4.07997965e+10 4.07997898e+10\n",
      " 4.07997824e+10 4.07997743e+10 4.07997654e+10 4.07997558e+10\n",
      " 4.07997455e+10 4.07997346e+10 4.07997235e+10 4.07997123e+10\n",
      " 4.07997015e+10 4.07996919e+10 4.07996843e+10 4.07996802e+10\n",
      " 4.07996814e+10 4.07996903e+10 4.07997103e+10 4.07997460e+10]\n",
      "40799680225.13419\n"
     ]
    }
   ],
   "source": [
    "for i in range(len(penalidad_l2)):\n",
    "    mse[i] = validacion_cruzada_k_fold(Ridge, 10, penalidad_l2[i], data, \"price\", atributos)\n",
    "print (mse)\n",
    "print (min(mse))\n"
   ]
  },
  {
   "cell_type": "markdown",
   "metadata": {},
   "source": [
    "Graficar el error de validación con respecto al valor de la penalización"
   ]
  },
  {
   "cell_type": "code",
   "execution_count": 11,
   "metadata": {},
   "outputs": [
    {
     "name": "stdout",
     "output_type": "stream",
     "text": [
      "indice =  15\n",
      "alfa =  0.7386199822079363\n",
      "MSE = 40799680225.13419\n"
     ]
    },
    {
     "data": {
      "image/png": "[encoded data removed]",
      "text/plain": [
       "<Figure size 432x288 with 1 Axes>"
      ]
     },
     "metadata": {
      "needs_background": "light"
     },
     "output_type": "display_data"
    }
   ],
   "source": [
    "# Graficar los valores de la penalizacion_l2 en el eje xy el error de validación cruzada en el eje y.\n",
    "# El uso de plt.xscale ('log') hará que su trazado sea más intuitivo. \n",
    "alfa = penalidad_l2[np.argmin(mse)]\n",
    "print('indice = ',np.argmin(mse))\n",
    "print('alfa = ', alfa )\n",
    "print('MSE =', mse.min())\n",
    "plt.plot(penalidad_l2, mse,'.')\n",
    "plt.xscale('log')"
   ]
  },
  {
   "cell_type": "markdown",
   "metadata": {},
   "source": [
    "Una vez que encuentre el mejor valor para la penalización L2 mediante la validación cruzada, es importante reentrenar un modelo final con todos los datos de entrenamiento usando este valor de `penalizacion_l2`. De esta manera, su modelo final será entrenado con el conjunto de datos completo."
   ]
  },
  {
   "cell_type": "code",
   "execution_count": 12,
   "metadata": {},
   "outputs": [
    {
     "name": "stdout",
     "output_type": "stream",
     "text": [
      "RMSE = 199844.57206335265\n",
      "Polinomio de grado 18:\n",
      "         18         17             16             15         14\n",
      "-0.3544 x  + 21.78 x  - 2.173e+05 x  + 6.038e+05 x  - 581.3 x \n",
      "         13        12         11         10             9             8\n",
      " + 23.9 x  - 2595 x  + 37.49 x  + 71.25 x  + 9.573e+04 x + 2.666e+04 x\n",
      "             7             6        5          4         3\n",
      " + 5.37e+04 x + 6.042e+05 x + 5885 x + 0.1106 x + 108.7 x\n",
      "              2\n",
      " + 4.159e+04 x - 3.394e+04 x + 6.169e+06\n",
      "score = 0.7002453777714072\n"
     ]
    }
   ],
   "source": [
    "modeloRidge = Ridge(alpha=alfa)\n",
    "X = ventas_entre_val[atributos]\n",
    "y = ventas_entre_val['price']\n",
    "X_prueba = ventas_prueba[atributos]\n",
    "y_prueba = ventas_prueba['price']\n",
    "modeloRidge.fit(X, y)\n",
    "mse = mean_squared_error(y_prueba, modeloRidge.predict(X_prueba))\n",
    "print('RMSE =', np.sqrt(mse) )\n",
    "imprimir_coefficientes(modeloRidge)\n",
    "print('score =', modeloRidge.score(X,y))"
   ]
  },
  {
   "cell_type": "markdown",
   "metadata": {},
   "source": [
    "### Valor de los coefficientes con respecto al valor de la penalización. Regresión Lineal Ridge\n",
    "\n",
    "Los valores de los coeeficientes tienden a cero a medida que se incrementa el valor de la penalización (alfa)\n",
    "\n",
    "<img src=\"figuras/ridge_coefficientes.png\" width=\"75%\">\n",
    "\n",
    "\n",
    "Contornos de la función de penalización y el error para la Regresión Lineal Ridge\n",
    "\n",
    "<img src=\"figuras/estimacion_ridge.png\" width=\"75%\">"
   ]
  },
  {
   "cell_type": "code",
   "execution_count": 17,
   "metadata": {},
   "outputs": [
    {
     "name": "stdout",
     "output_type": "stream",
     "text": [
      "RMSE = 199876.51648692932\n",
      "Polinomio de grado 18:\n",
      "         18         17             16             15       14\n",
      "-0.3541 x  + 21.81 x  - 2.181e+05 x  + 6.052e+05 x  - 583 x \n",
      "          13        12         11         10             9\n",
      " + 23.89 x  - 2592 x  + 37.45 x  + 71.28 x  + 9.568e+04 x\n",
      "              8             7             6        5          4\n",
      " + 2.667e+04 x + 5.355e+04 x + 6.078e+05 x + 5826 x + 0.1111 x\n",
      "          3             2\n",
      " + 108.7 x + 4.158e+04 x - 3.391e+04 x + 6.157e+06\n"
     ]
    }
   ],
   "source": [
    "modeloLR = LinearRegression()\n",
    "modeloLR.fit(X, y)\n",
    "mse = mean_squared_error(y_prueba, modeloLR.predict(X_prueba))\n",
    "print('RMSE =', np.sqrt(mse) )\n",
    "imprimir_coefficientes(modeloLR)"
   ]
  },
  {
   "cell_type": "markdown",
   "metadata": {},
   "source": [
    "## Selección de Atributos Usando Regresión Lasso"
   ]
  },
  {
   "cell_type": "code",
   "execution_count": 18,
   "metadata": {
    "tags": []
   },
   "outputs": [],
   "source": [
    "def seleccion_atributos(k, penalidad_l1, data, salida, lista_atributos):\n",
    "    n = len(data)\n",
    "    mse = 0\n",
    "    modelo = Lasso(alpha=penalidad_l1)\n",
    "    X = data[lista_atributos]\n",
    "    y = data[salida]\n",
    "    for i in range(k):\n",
    "        inicio = (n*i)//k\n",
    "        fin = (n*(i+1))//k-1\n",
    "        X_validacion = X[inicio: fin+1]\n",
    "        y_validacion = y[inicio: fin+1]\n",
    "        X_entrenamiento = X[0:inicio]\n",
    "        y_entrenamiento = y[0:inicio]\n",
    "        ultimo_X = X[fin+1:n]\n",
    "        ultimo_y = y[fin+1:n]\n",
    "        X_entrenamiento = X_entrenamiento.append(ultimo_X)\n",
    "        y_entrenamiento = y_entrenamiento.append(ultimo_y)\n",
    "        modelo.fit(X_entrenamiento, y_entrenamiento)\n",
    "        mse += mean_squared_error(y_validacion, modelo.predict(X_validacion))\n",
    "    mse = mse / k\n",
    "    return mse"
   ]
  },
  {
   "cell_type": "code",
   "execution_count": 20,
   "metadata": {
    "tags": []
   },
   "outputs": [
    {
     "name": "stderr",
     "output_type": "stream",
     "text": [
      "C:\\Users\\Orlando\\Anaconda3\\lib\\site-packages\\pandas\\core\\indexing.py:1667: SettingWithCopyWarning: \n",
      "A value is trying to be set on a copy of a slice from a DataFrame.\n",
      "Try using .loc[row_indexer,col_indexer] = value instead\n",
      "\n",
      "See the caveats in the documentation: https://pandas.pydata.org/pandas-docs/stable/user_guide/indexing.html#returning-a-view-versus-a-copy\n",
      "  self.obj[key] = value\n",
      "C:\\Users\\Orlando\\Anaconda3\\lib\\site-packages\\sklearn\\linear_model\\_coordinate_descent.py:530: ConvergenceWarning: Objective did not converge. You might want to increase the number of iterations. Duality gap: 326985997631756.75, tolerance: 239819289688.9281\n",
      "  model = cd_fast.enet_coordinate_descent(\n",
      "C:\\Users\\Orlando\\Anaconda3\\lib\\site-packages\\sklearn\\linear_model\\_coordinate_descent.py:530: ConvergenceWarning: Objective did not converge. You might want to increase the number of iterations. Duality gap: 329624051544917.44, tolerance: 241129674922.16095\n",
      "  model = cd_fast.enet_coordinate_descent(\n",
      "C:\\Users\\Orlando\\Anaconda3\\lib\\site-packages\\sklearn\\linear_model\\_coordinate_descent.py:530: ConvergenceWarning: Objective did not converge. You might want to increase the number of iterations. Duality gap: 306956832960320.8, tolerance: 227200176035.86862\n",
      "  model = cd_fast.enet_coordinate_descent(\n",
      "C:\\Users\\Orlando\\Anaconda3\\lib\\site-packages\\sklearn\\linear_model\\_coordinate_descent.py:530: ConvergenceWarning: Objective did not converge. You might want to increase the number of iterations. Duality gap: 327706570926563.44, tolerance: 238937631757.93005\n",
      "  model = cd_fast.enet_coordinate_descent(\n",
      "C:\\Users\\Orlando\\Anaconda3\\lib\\site-packages\\sklearn\\linear_model\\_coordinate_descent.py:530: ConvergenceWarning: Objective did not converge. You might want to increase the number of iterations. Duality gap: 319856291421797.06, tolerance: 235326155989.3479\n",
      "  model = cd_fast.enet_coordinate_descent(\n",
      "C:\\Users\\Orlando\\Anaconda3\\lib\\site-packages\\sklearn\\linear_model\\_coordinate_descent.py:530: ConvergenceWarning: Objective did not converge. You might want to increase the number of iterations. Duality gap: 322434246334649.9, tolerance: 236253733357.06223\n",
      "  model = cd_fast.enet_coordinate_descent(\n",
      "C:\\Users\\Orlando\\Anaconda3\\lib\\site-packages\\sklearn\\linear_model\\_coordinate_descent.py:530: ConvergenceWarning: Objective did not converge. You might want to increase the number of iterations. Duality gap: 317064614240156.8, tolerance: 231707843432.5986\n",
      "  model = cd_fast.enet_coordinate_descent(\n",
      "C:\\Users\\Orlando\\Anaconda3\\lib\\site-packages\\sklearn\\linear_model\\_coordinate_descent.py:530: ConvergenceWarning: Objective did not converge. You might want to increase the number of iterations. Duality gap: 328412375236738.25, tolerance: 238394466986.6281\n",
      "  model = cd_fast.enet_coordinate_descent(\n",
      "C:\\Users\\Orlando\\Anaconda3\\lib\\site-packages\\sklearn\\linear_model\\_coordinate_descent.py:530: ConvergenceWarning: Objective did not converge. You might want to increase the number of iterations. Duality gap: 332096792369643.06, tolerance: 240875827884.3236\n",
      "  model = cd_fast.enet_coordinate_descent(\n",
      "C:\\Users\\Orlando\\Anaconda3\\lib\\site-packages\\sklearn\\linear_model\\_coordinate_descent.py:530: ConvergenceWarning: Objective did not converge. You might want to increase the number of iterations. Duality gap: 325100881154614.06, tolerance: 237695071763.90872\n",
      "  model = cd_fast.enet_coordinate_descent(\n",
      "C:\\Users\\Orlando\\Anaconda3\\lib\\site-packages\\sklearn\\linear_model\\_coordinate_descent.py:530: ConvergenceWarning: Objective did not converge. You might want to increase the number of iterations. Duality gap: 326987536701980.3, tolerance: 239819289688.9281\n",
      "  model = cd_fast.enet_coordinate_descent(\n",
      "C:\\Users\\Orlando\\Anaconda3\\lib\\site-packages\\sklearn\\linear_model\\_coordinate_descent.py:530: ConvergenceWarning: Objective did not converge. You might want to increase the number of iterations. Duality gap: 329625601528748.3, tolerance: 241129674922.16095\n",
      "  model = cd_fast.enet_coordinate_descent(\n",
      "C:\\Users\\Orlando\\Anaconda3\\lib\\site-packages\\sklearn\\linear_model\\_coordinate_descent.py:530: ConvergenceWarning: Objective did not converge. You might want to increase the number of iterations. Duality gap: 306958377837016.0, tolerance: 227200176035.86862\n",
      "  model = cd_fast.enet_coordinate_descent(\n",
      "C:\\Users\\Orlando\\Anaconda3\\lib\\site-packages\\sklearn\\linear_model\\_coordinate_descent.py:530: ConvergenceWarning: Objective did not converge. You might want to increase the number of iterations. Duality gap: 327708125695139.1, tolerance: 238937631757.93005\n",
      "  model = cd_fast.enet_coordinate_descent(\n",
      "C:\\Users\\Orlando\\Anaconda3\\lib\\site-packages\\sklearn\\linear_model\\_coordinate_descent.py:530: ConvergenceWarning: Objective did not converge. You might want to increase the number of iterations. Duality gap: 319857848493310.0, tolerance: 235326155989.3479\n",
      "  model = cd_fast.enet_coordinate_descent(\n",
      "C:\\Users\\Orlando\\Anaconda3\\lib\\site-packages\\sklearn\\linear_model\\_coordinate_descent.py:530: ConvergenceWarning: Objective did not converge. You might want to increase the number of iterations. Duality gap: 322435788750157.7, tolerance: 236253733357.06223\n",
      "  model = cd_fast.enet_coordinate_descent(\n",
      "C:\\Users\\Orlando\\Anaconda3\\lib\\site-packages\\sklearn\\linear_model\\_coordinate_descent.py:530: ConvergenceWarning: Objective did not converge. You might want to increase the number of iterations. Duality gap: 317066138218768.3, tolerance: 231707843432.5986\n",
      "  model = cd_fast.enet_coordinate_descent(\n",
      "C:\\Users\\Orlando\\Anaconda3\\lib\\site-packages\\sklearn\\linear_model\\_coordinate_descent.py:530: ConvergenceWarning: Objective did not converge. You might want to increase the number of iterations. Duality gap: 328413896050723.4, tolerance: 238394466986.6281\n",
      "  model = cd_fast.enet_coordinate_descent(\n",
      "C:\\Users\\Orlando\\Anaconda3\\lib\\site-packages\\sklearn\\linear_model\\_coordinate_descent.py:530: ConvergenceWarning: Objective did not converge. You might want to increase the number of iterations. Duality gap: 332098310009858.56, tolerance: 240875827884.3236\n",
      "  model = cd_fast.enet_coordinate_descent(\n",
      "C:\\Users\\Orlando\\Anaconda3\\lib\\site-packages\\sklearn\\linear_model\\_coordinate_descent.py:530: ConvergenceWarning: Objective did not converge. You might want to increase the number of iterations. Duality gap: 325102433781652.8, tolerance: 237695071763.90872\n",
      "  model = cd_fast.enet_coordinate_descent(\n",
      "C:\\Users\\Orlando\\Anaconda3\\lib\\site-packages\\sklearn\\linear_model\\_coordinate_descent.py:530: ConvergenceWarning: Objective did not converge. You might want to increase the number of iterations. Duality gap: 326989907454328.06, tolerance: 239819289688.9281\n",
      "  model = cd_fast.enet_coordinate_descent(\n",
      "C:\\Users\\Orlando\\Anaconda3\\lib\\site-packages\\sklearn\\linear_model\\_coordinate_descent.py:530: ConvergenceWarning: Objective did not converge. You might want to increase the number of iterations. Duality gap: 329627997269987.2, tolerance: 241129674922.16095\n",
      "  model = cd_fast.enet_coordinate_descent(\n",
      "C:\\Users\\Orlando\\Anaconda3\\lib\\site-packages\\sklearn\\linear_model\\_coordinate_descent.py:530: ConvergenceWarning: Objective did not converge. You might want to increase the number of iterations. Duality gap: 306960773420581.25, tolerance: 227200176035.86862\n",
      "  model = cd_fast.enet_coordinate_descent(\n",
      "C:\\Users\\Orlando\\Anaconda3\\lib\\site-packages\\sklearn\\linear_model\\_coordinate_descent.py:530: ConvergenceWarning: Objective did not converge. You might want to increase the number of iterations. Duality gap: 327710527818852.3, tolerance: 238937631757.93005\n",
      "  model = cd_fast.enet_coordinate_descent(\n",
      "C:\\Users\\Orlando\\Anaconda3\\lib\\site-packages\\sklearn\\linear_model\\_coordinate_descent.py:530: ConvergenceWarning: Objective did not converge. You might want to increase the number of iterations. Duality gap: 319860257547909.75, tolerance: 235326155989.3479\n",
      "  model = cd_fast.enet_coordinate_descent(\n",
      "C:\\Users\\Orlando\\Anaconda3\\lib\\site-packages\\sklearn\\linear_model\\_coordinate_descent.py:530: ConvergenceWarning: Objective did not converge. You might want to increase the number of iterations. Duality gap: 322438172932013.4, tolerance: 236253733357.06223\n",
      "  model = cd_fast.enet_coordinate_descent(\n",
      "C:\\Users\\Orlando\\Anaconda3\\lib\\site-packages\\sklearn\\linear_model\\_coordinate_descent.py:530: ConvergenceWarning: Objective did not converge. You might want to increase the number of iterations. Duality gap: 317068490925091.5, tolerance: 231707843432.5986\n",
      "  model = cd_fast.enet_coordinate_descent(\n",
      "C:\\Users\\Orlando\\Anaconda3\\lib\\site-packages\\sklearn\\linear_model\\_coordinate_descent.py:530: ConvergenceWarning: Objective did not converge. You might want to increase the number of iterations. Duality gap: 328416245667983.0, tolerance: 238394466986.6281\n",
      "  model = cd_fast.enet_coordinate_descent(\n",
      "C:\\Users\\Orlando\\Anaconda3\\lib\\site-packages\\sklearn\\linear_model\\_coordinate_descent.py:530: ConvergenceWarning: Objective did not converge. You might want to increase the number of iterations. Duality gap: 332100660718383.5, tolerance: 240875827884.3236\n",
      "  model = cd_fast.enet_coordinate_descent(\n",
      "C:\\Users\\Orlando\\Anaconda3\\lib\\site-packages\\sklearn\\linear_model\\_coordinate_descent.py:530: ConvergenceWarning: Objective did not converge. You might want to increase the number of iterations. Duality gap: 325104837500465.2, tolerance: 237695071763.90872\n",
      "  model = cd_fast.enet_coordinate_descent(\n",
      "C:\\Users\\Orlando\\Anaconda3\\lib\\site-packages\\sklearn\\linear_model\\_coordinate_descent.py:530: ConvergenceWarning: Objective did not converge. You might want to increase the number of iterations. Duality gap: 326993572132206.3, tolerance: 239819289688.9281\n",
      "  model = cd_fast.enet_coordinate_descent(\n",
      "C:\\Users\\Orlando\\Anaconda3\\lib\\site-packages\\sklearn\\linear_model\\_coordinate_descent.py:530: ConvergenceWarning: Objective did not converge. You might want to increase the number of iterations. Duality gap: 329631699629714.75, tolerance: 241129674922.16095\n",
      "  model = cd_fast.enet_coordinate_descent(\n",
      "C:\\Users\\Orlando\\Anaconda3\\lib\\site-packages\\sklearn\\linear_model\\_coordinate_descent.py:530: ConvergenceWarning: Objective did not converge. You might want to increase the number of iterations. Duality gap: 306964469032129.3, tolerance: 227200176035.86862\n",
      "  model = cd_fast.enet_coordinate_descent(\n",
      "C:\\Users\\Orlando\\Anaconda3\\lib\\site-packages\\sklearn\\linear_model\\_coordinate_descent.py:530: ConvergenceWarning: Objective did not converge. You might want to increase the number of iterations. Duality gap: 327714240847903.7, tolerance: 238937631757.93005\n",
      "  model = cd_fast.enet_coordinate_descent(\n",
      "C:\\Users\\Orlando\\Anaconda3\\lib\\site-packages\\sklearn\\linear_model\\_coordinate_descent.py:530: ConvergenceWarning: Objective did not converge. You might want to increase the number of iterations. Duality gap: 319863979548093.2, tolerance: 235326155989.3479\n",
      "  model = cd_fast.enet_coordinate_descent(\n",
      "C:\\Users\\Orlando\\Anaconda3\\lib\\site-packages\\sklearn\\linear_model\\_coordinate_descent.py:530: ConvergenceWarning: Objective did not converge. You might want to increase the number of iterations. Duality gap: 322441858340464.25, tolerance: 236253733357.06223\n",
      "  model = cd_fast.enet_coordinate_descent(\n",
      "C:\\Users\\Orlando\\Anaconda3\\lib\\site-packages\\sklearn\\linear_model\\_coordinate_descent.py:530: ConvergenceWarning: Objective did not converge. You might want to increase the number of iterations. Duality gap: 317072128328999.4, tolerance: 231707843432.5986\n",
      "  model = cd_fast.enet_coordinate_descent(\n",
      "C:\\Users\\Orlando\\Anaconda3\\lib\\site-packages\\sklearn\\linear_model\\_coordinate_descent.py:530: ConvergenceWarning: Objective did not converge. You might want to increase the number of iterations. Duality gap: 328419876649129.9, tolerance: 238394466986.6281\n",
      "  model = cd_fast.enet_coordinate_descent(\n",
      "C:\\Users\\Orlando\\Anaconda3\\lib\\site-packages\\sklearn\\linear_model\\_coordinate_descent.py:530: ConvergenceWarning: Objective did not converge. You might want to increase the number of iterations. Duality gap: 332104291849169.94, tolerance: 240875827884.3236\n",
      "  model = cd_fast.enet_coordinate_descent(\n",
      "C:\\Users\\Orlando\\Anaconda3\\lib\\site-packages\\sklearn\\linear_model\\_coordinate_descent.py:530: ConvergenceWarning: Objective did not converge. You might want to increase the number of iterations. Duality gap: 325108548220780.75, tolerance: 237695071763.90872\n",
      "  model = cd_fast.enet_coordinate_descent(\n",
      "C:\\Users\\Orlando\\Anaconda3\\lib\\site-packages\\sklearn\\linear_model\\_coordinate_descent.py:530: ConvergenceWarning: Objective did not converge. You might want to increase the number of iterations. Duality gap: 326999231533323.06, tolerance: 239819289688.9281\n",
      "  model = cd_fast.enet_coordinate_descent(\n",
      "C:\\Users\\Orlando\\Anaconda3\\lib\\site-packages\\sklearn\\linear_model\\_coordinate_descent.py:530: ConvergenceWarning: Objective did not converge. You might want to increase the number of iterations. Duality gap: 329637420355058.0, tolerance: 241129674922.16095\n",
      "  model = cd_fast.enet_coordinate_descent(\n",
      "C:\\Users\\Orlando\\Anaconda3\\lib\\site-packages\\sklearn\\linear_model\\_coordinate_descent.py:530: ConvergenceWarning: Objective did not converge. You might want to increase the number of iterations. Duality gap: 306970178282940.4, tolerance: 227200176035.86862\n",
      "  model = cd_fast.enet_coordinate_descent(\n",
      "C:\\Users\\Orlando\\Anaconda3\\lib\\site-packages\\sklearn\\linear_model\\_coordinate_descent.py:530: ConvergenceWarning: Objective did not converge. You might want to increase the number of iterations. Duality gap: 327719976497901.1, tolerance: 238937631757.93005\n",
      "  model = cd_fast.enet_coordinate_descent(\n",
      "C:\\Users\\Orlando\\Anaconda3\\lib\\site-packages\\sklearn\\linear_model\\_coordinate_descent.py:530: ConvergenceWarning: Objective did not converge. You might want to increase the number of iterations. Duality gap: 319869732554220.2, tolerance: 235326155989.3479\n",
      "  model = cd_fast.enet_coordinate_descent(\n",
      "C:\\Users\\Orlando\\Anaconda3\\lib\\site-packages\\sklearn\\linear_model\\_coordinate_descent.py:530: ConvergenceWarning: Objective did not converge. You might want to increase the number of iterations. Duality gap: 322447549681675.44, tolerance: 236253733357.06223\n",
      "  model = cd_fast.enet_coordinate_descent(\n",
      "C:\\Users\\Orlando\\Anaconda3\\lib\\site-packages\\sklearn\\linear_model\\_coordinate_descent.py:530: ConvergenceWarning: Objective did not converge. You might want to increase the number of iterations. Duality gap: 317077747466135.0, tolerance: 231707843432.5986\n",
      "  model = cd_fast.enet_coordinate_descent(\n",
      "C:\\Users\\Orlando\\Anaconda3\\lib\\site-packages\\sklearn\\linear_model\\_coordinate_descent.py:530: ConvergenceWarning: Objective did not converge. You might want to increase the number of iterations. Duality gap: 328425484670061.1, tolerance: 238394466986.6281\n",
      "  model = cd_fast.enet_coordinate_descent(\n",
      "C:\\Users\\Orlando\\Anaconda3\\lib\\site-packages\\sklearn\\linear_model\\_coordinate_descent.py:530: ConvergenceWarning: Objective did not converge. You might want to increase the number of iterations. Duality gap: 332109900406877.4, tolerance: 240875827884.3236\n",
      "  model = cd_fast.enet_coordinate_descent(\n",
      "C:\\Users\\Orlando\\Anaconda3\\lib\\site-packages\\sklearn\\linear_model\\_coordinate_descent.py:530: ConvergenceWarning: Objective did not converge. You might want to increase the number of iterations. Duality gap: 325114278888086.0, tolerance: 237695071763.90872\n",
      "  model = cd_fast.enet_coordinate_descent(\n",
      "C:\\Users\\Orlando\\Anaconda3\\lib\\site-packages\\sklearn\\linear_model\\_coordinate_descent.py:530: ConvergenceWarning: Objective did not converge. You might want to increase the number of iterations. Duality gap: 327007974445446.9, tolerance: 239819289688.9281\n",
      "  model = cd_fast.enet_coordinate_descent(\n",
      "C:\\Users\\Orlando\\Anaconda3\\lib\\site-packages\\sklearn\\linear_model\\_coordinate_descent.py:530: ConvergenceWarning: Objective did not converge. You might want to increase the number of iterations. Duality gap: 329646257385342.44, tolerance: 241129674922.16095\n",
      "  model = cd_fast.enet_coordinate_descent(\n",
      "C:\\Users\\Orlando\\Anaconda3\\lib\\site-packages\\sklearn\\linear_model\\_coordinate_descent.py:530: ConvergenceWarning: Objective did not converge. You might want to increase the number of iterations. Duality gap: 306978999202070.25, tolerance: 227200176035.86862\n",
      "  model = cd_fast.enet_coordinate_descent(\n",
      "C:\\Users\\Orlando\\Anaconda3\\lib\\site-packages\\sklearn\\linear_model\\_coordinate_descent.py:530: ConvergenceWarning: Objective did not converge. You might want to increase the number of iterations. Duality gap: 327728836397085.0, tolerance: 238937631757.93005\n",
      "  model = cd_fast.enet_coordinate_descent(\n",
      "C:\\Users\\Orlando\\Anaconda3\\lib\\site-packages\\sklearn\\linear_model\\_coordinate_descent.py:530: ConvergenceWarning: Objective did not converge. You might want to increase the number of iterations. Duality gap: 319878617917366.94, tolerance: 235326155989.3479\n",
      "  model = cd_fast.enet_coordinate_descent(\n",
      "C:\\Users\\Orlando\\Anaconda3\\lib\\site-packages\\sklearn\\linear_model\\_coordinate_descent.py:530: ConvergenceWarning: Objective did not converge. You might want to increase the number of iterations. Duality gap: 322456343359418.3, tolerance: 236253733357.06223\n",
      "  model = cd_fast.enet_coordinate_descent(\n",
      "C:\\Users\\Orlando\\Anaconda3\\lib\\site-packages\\sklearn\\linear_model\\_coordinate_descent.py:530: ConvergenceWarning: Objective did not converge. You might want to increase the number of iterations. Duality gap: 317086427428241.3, tolerance: 231707843432.5986\n",
      "  model = cd_fast.enet_coordinate_descent(\n",
      "C:\\Users\\Orlando\\Anaconda3\\lib\\site-packages\\sklearn\\linear_model\\_coordinate_descent.py:530: ConvergenceWarning: Objective did not converge. You might want to increase the number of iterations. Duality gap: 328434147980767.25, tolerance: 238394466986.6281\n",
      "  model = cd_fast.enet_coordinate_descent(\n",
      "C:\\Users\\Orlando\\Anaconda3\\lib\\site-packages\\sklearn\\linear_model\\_coordinate_descent.py:530: ConvergenceWarning: Objective did not converge. You might want to increase the number of iterations. Duality gap: 332118565455480.8, tolerance: 240875827884.3236\n",
      "  model = cd_fast.enet_coordinate_descent(\n",
      "C:\\Users\\Orlando\\Anaconda3\\lib\\site-packages\\sklearn\\linear_model\\_coordinate_descent.py:530: ConvergenceWarning: Objective did not converge. You might want to increase the number of iterations. Duality gap: 325123133198460.4, tolerance: 237695071763.90872\n",
      "  model = cd_fast.enet_coordinate_descent(\n",
      "C:\\Users\\Orlando\\Anaconda3\\lib\\site-packages\\sklearn\\linear_model\\_coordinate_descent.py:530: ConvergenceWarning: Objective did not converge. You might want to increase the number of iterations. Duality gap: 327021480100039.0, tolerance: 239819289688.9281\n",
      "  model = cd_fast.enet_coordinate_descent(\n",
      "C:\\Users\\Orlando\\Anaconda3\\lib\\site-packages\\sklearn\\linear_model\\_coordinate_descent.py:530: ConvergenceWarning: Objective did not converge. You might want to increase the number of iterations. Duality gap: 329659907790498.2, tolerance: 241129674922.16095\n",
      "  model = cd_fast.enet_coordinate_descent(\n",
      "C:\\Users\\Orlando\\Anaconda3\\lib\\site-packages\\sklearn\\linear_model\\_coordinate_descent.py:530: ConvergenceWarning: Objective did not converge. You might want to increase the number of iterations. Duality gap: 306992625145411.1, tolerance: 227200176035.86862\n",
      "  model = cd_fast.enet_coordinate_descent(\n",
      "C:\\Users\\Orlando\\Anaconda3\\lib\\site-packages\\sklearn\\linear_model\\_coordinate_descent.py:530: ConvergenceWarning: Objective did not converge. You might want to increase the number of iterations. Duality gap: 327742524595119.44, tolerance: 238937631757.93005\n",
      "  model = cd_fast.enet_coordinate_descent(\n",
      "C:\\Users\\Orlando\\Anaconda3\\lib\\site-packages\\sklearn\\linear_model\\_coordinate_descent.py:530: ConvergenceWarning: Objective did not converge. You might want to increase the number of iterations. Duality gap: 319892344411427.9, tolerance: 235326155989.3479\n",
      "  model = cd_fast.enet_coordinate_descent(\n",
      "C:\\Users\\Orlando\\Anaconda3\\lib\\site-packages\\sklearn\\linear_model\\_coordinate_descent.py:530: ConvergenceWarning: Objective did not converge. You might want to increase the number of iterations. Duality gap: 322469927356136.94, tolerance: 236253733357.06223\n",
      "  model = cd_fast.enet_coordinate_descent(\n",
      "C:\\Users\\Orlando\\Anaconda3\\lib\\site-packages\\sklearn\\linear_model\\_coordinate_descent.py:530: ConvergenceWarning: Objective did not converge. You might want to increase the number of iterations. Duality gap: 317099836801968.56, tolerance: 231707843432.5986\n",
      "  model = cd_fast.enet_coordinate_descent(\n",
      "C:\\Users\\Orlando\\Anaconda3\\lib\\site-packages\\sklearn\\linear_model\\_coordinate_descent.py:530: ConvergenceWarning: Objective did not converge. You might want to increase the number of iterations. Duality gap: 328447532491351.8, tolerance: 238394466986.6281\n",
      "  model = cd_fast.enet_coordinate_descent(\n",
      "C:\\Users\\Orlando\\Anaconda3\\lib\\site-packages\\sklearn\\linear_model\\_coordinate_descent.py:530: ConvergenceWarning: Objective did not converge. You might want to increase the number of iterations. Duality gap: 332131951122675.56, tolerance: 240875827884.3236\n",
      "  model = cd_fast.enet_coordinate_descent(\n",
      "C:\\Users\\Orlando\\Anaconda3\\lib\\site-packages\\sklearn\\linear_model\\_coordinate_descent.py:530: ConvergenceWarning: Objective did not converge. You might want to increase the number of iterations. Duality gap: 325136809254939.75, tolerance: 237695071763.90872\n",
      "  model = cd_fast.enet_coordinate_descent(\n",
      "C:\\Users\\Orlando\\Anaconda3\\lib\\site-packages\\sklearn\\linear_model\\_coordinate_descent.py:530: ConvergenceWarning: Objective did not converge. You might want to increase the number of iterations. Duality gap: 327042341742359.75, tolerance: 239819289688.9281\n",
      "  model = cd_fast.enet_coordinate_descent(\n",
      "C:\\Users\\Orlando\\Anaconda3\\lib\\site-packages\\sklearn\\linear_model\\_coordinate_descent.py:530: ConvergenceWarning: Objective did not converge. You might want to increase the number of iterations. Duality gap: 329680993660513.56, tolerance: 241129674922.16095\n",
      "  model = cd_fast.enet_coordinate_descent(\n",
      "C:\\Users\\Orlando\\Anaconda3\\lib\\site-packages\\sklearn\\linear_model\\_coordinate_descent.py:530: ConvergenceWarning: Objective did not converge. You might want to increase the number of iterations. Duality gap: 307013671887170.56, tolerance: 227200176035.86862\n",
      "  model = cd_fast.enet_coordinate_descent(\n",
      "C:\\Users\\Orlando\\Anaconda3\\lib\\site-packages\\sklearn\\linear_model\\_coordinate_descent.py:530: ConvergenceWarning: Objective did not converge. You might want to increase the number of iterations. Duality gap: 327763667627705.2, tolerance: 238937631757.93005\n",
      "  model = cd_fast.enet_coordinate_descent(\n",
      "C:\\Users\\Orlando\\Anaconda3\\lib\\site-packages\\sklearn\\linear_model\\_coordinate_descent.py:530: ConvergenceWarning: Objective did not converge. You might want to increase the number of iterations. Duality gap: 319913547057769.5, tolerance: 235326155989.3479\n",
      "  model = cd_fast.enet_coordinate_descent(\n",
      "C:\\Users\\Orlando\\Anaconda3\\lib\\site-packages\\sklearn\\linear_model\\_coordinate_descent.py:530: ConvergenceWarning: Objective did not converge. You might want to increase the number of iterations. Duality gap: 322490909951948.4, tolerance: 236253733357.06223\n",
      "  model = cd_fast.enet_coordinate_descent(\n",
      "C:\\Users\\Orlando\\Anaconda3\\lib\\site-packages\\sklearn\\linear_model\\_coordinate_descent.py:530: ConvergenceWarning: Objective did not converge. You might want to increase the number of iterations. Duality gap: 317120548973244.75, tolerance: 231707843432.5986\n",
      "  model = cd_fast.enet_coordinate_descent(\n",
      "C:\\Users\\Orlando\\Anaconda3\\lib\\site-packages\\sklearn\\linear_model\\_coordinate_descent.py:530: ConvergenceWarning: Objective did not converge. You might want to increase the number of iterations. Duality gap: 328468206314409.5, tolerance: 238394466986.6281\n",
      "  model = cd_fast.enet_coordinate_descent(\n",
      "C:\\Users\\Orlando\\Anaconda3\\lib\\site-packages\\sklearn\\linear_model\\_coordinate_descent.py:530: ConvergenceWarning: Objective did not converge. You might want to increase the number of iterations. Duality gap: 332152627152124.4, tolerance: 240875827884.3236\n",
      "  model = cd_fast.enet_coordinate_descent(\n",
      "C:\\Users\\Orlando\\Anaconda3\\lib\\site-packages\\sklearn\\linear_model\\_coordinate_descent.py:530: ConvergenceWarning: Objective did not converge. You might want to increase the number of iterations. Duality gap: 325157934622154.5, tolerance: 237695071763.90872\n",
      "  model = cd_fast.enet_coordinate_descent(\n",
      "C:\\Users\\Orlando\\Anaconda3\\lib\\site-packages\\sklearn\\linear_model\\_coordinate_descent.py:530: ConvergenceWarning: Objective did not converge. You might want to increase the number of iterations. Duality gap: 327074564466615.9, tolerance: 239819289688.9281\n",
      "  model = cd_fast.enet_coordinate_descent(\n",
      "C:\\Users\\Orlando\\Anaconda3\\lib\\site-packages\\sklearn\\linear_model\\_coordinate_descent.py:530: ConvergenceWarning: Objective did not converge. You might want to increase the number of iterations. Duality gap: 329713562591294.75, tolerance: 241129674922.16095\n",
      "  model = cd_fast.enet_coordinate_descent(\n",
      "C:\\Users\\Orlando\\Anaconda3\\lib\\site-packages\\sklearn\\linear_model\\_coordinate_descent.py:530: ConvergenceWarning: Objective did not converge. You might want to increase the number of iterations. Duality gap: 307046181023468.06, tolerance: 227200176035.86862\n",
      "  model = cd_fast.enet_coordinate_descent(\n",
      "C:\\Users\\Orlando\\Anaconda3\\lib\\site-packages\\sklearn\\linear_model\\_coordinate_descent.py:530: ConvergenceWarning: Objective did not converge. You might want to increase the number of iterations. Duality gap: 327796325372540.6, tolerance: 238937631757.93005\n",
      "  model = cd_fast.enet_coordinate_descent(\n",
      "C:\\Users\\Orlando\\Anaconda3\\lib\\site-packages\\sklearn\\linear_model\\_coordinate_descent.py:530: ConvergenceWarning: Objective did not converge. You might want to increase the number of iterations. Duality gap: 319946296453043.4, tolerance: 235326155989.3479\n",
      "  model = cd_fast.enet_coordinate_descent(\n",
      "C:\\Users\\Orlando\\Anaconda3\\lib\\site-packages\\sklearn\\linear_model\\_coordinate_descent.py:530: ConvergenceWarning: Objective did not converge. You might want to increase the number of iterations. Duality gap: 322523319909244.7, tolerance: 236253733357.06223\n",
      "  model = cd_fast.enet_coordinate_descent(\n",
      "C:\\Users\\Orlando\\Anaconda3\\lib\\site-packages\\sklearn\\linear_model\\_coordinate_descent.py:530: ConvergenceWarning: Objective did not converge. You might want to increase the number of iterations. Duality gap: 317152540983015.06, tolerance: 231707843432.5986\n",
      "  model = cd_fast.enet_coordinate_descent(\n",
      "C:\\Users\\Orlando\\Anaconda3\\lib\\site-packages\\sklearn\\linear_model\\_coordinate_descent.py:530: ConvergenceWarning: Objective did not converge. You might want to increase the number of iterations. Duality gap: 328500139187746.9, tolerance: 238394466986.6281\n",
      "  model = cd_fast.enet_coordinate_descent(\n",
      "C:\\Users\\Orlando\\Anaconda3\\lib\\site-packages\\sklearn\\linear_model\\_coordinate_descent.py:530: ConvergenceWarning: Objective did not converge. You might want to increase the number of iterations. Duality gap: 332184563067272.1, tolerance: 240875827884.3236\n",
      "  model = cd_fast.enet_coordinate_descent(\n",
      "C:\\Users\\Orlando\\Anaconda3\\lib\\site-packages\\sklearn\\linear_model\\_coordinate_descent.py:530: ConvergenceWarning: Objective did not converge. You might want to increase the number of iterations. Duality gap: 325190564186938.4, tolerance: 237695071763.90872\n",
      "  model = cd_fast.enet_coordinate_descent(\n",
      "C:\\Users\\Orlando\\Anaconda3\\lib\\site-packages\\sklearn\\linear_model\\_coordinate_descent.py:530: ConvergenceWarning: Objective did not converge. You might want to increase the number of iterations. Duality gap: 327124330450902.4, tolerance: 239819289688.9281\n",
      "  model = cd_fast.enet_coordinate_descent(\n",
      "C:\\Users\\Orlando\\Anaconda3\\lib\\site-packages\\sklearn\\linear_model\\_coordinate_descent.py:530: ConvergenceWarning: Objective did not converge. You might want to increase the number of iterations. Duality gap: 329763863413713.44, tolerance: 241129674922.16095\n",
      "  model = cd_fast.enet_coordinate_descent(\n",
      "C:\\Users\\Orlando\\Anaconda3\\lib\\site-packages\\sklearn\\linear_model\\_coordinate_descent.py:530: ConvergenceWarning: Objective did not converge. You might want to increase the number of iterations. Duality gap: 307096389408451.3, tolerance: 227200176035.86862\n",
      "  model = cd_fast.enet_coordinate_descent(\n",
      "C:\\Users\\Orlando\\Anaconda3\\lib\\site-packages\\sklearn\\linear_model\\_coordinate_descent.py:530: ConvergenceWarning: Objective did not converge. You might want to increase the number of iterations. Duality gap: 327846763227662.7, tolerance: 238937631757.93005\n",
      "  model = cd_fast.enet_coordinate_descent(\n",
      "C:\\Users\\Orlando\\Anaconda3\\lib\\site-packages\\sklearn\\linear_model\\_coordinate_descent.py:530: ConvergenceWarning: Objective did not converge. You might want to increase the number of iterations. Duality gap: 319996876196122.2, tolerance: 235326155989.3479\n",
      "  model = cd_fast.enet_coordinate_descent(\n",
      "C:\\Users\\Orlando\\Anaconda3\\lib\\site-packages\\sklearn\\linear_model\\_coordinate_descent.py:530: ConvergenceWarning: Objective did not converge. You might want to increase the number of iterations. Duality gap: 322573374384195.3, tolerance: 236253733357.06223\n",
      "  model = cd_fast.enet_coordinate_descent(\n",
      "C:\\Users\\Orlando\\Anaconda3\\lib\\site-packages\\sklearn\\linear_model\\_coordinate_descent.py:530: ConvergenceWarning: Objective did not converge. You might want to increase the number of iterations. Duality gap: 317201950237980.9, tolerance: 231707843432.5986\n",
      "  model = cd_fast.enet_coordinate_descent(\n",
      "C:\\Users\\Orlando\\Anaconda3\\lib\\site-packages\\sklearn\\linear_model\\_coordinate_descent.py:530: ConvergenceWarning: Objective did not converge. You might want to increase the number of iterations. Duality gap: 328549457663641.56, tolerance: 238394466986.6281\n",
      "  model = cd_fast.enet_coordinate_descent(\n",
      "C:\\Users\\Orlando\\Anaconda3\\lib\\site-packages\\sklearn\\linear_model\\_coordinate_descent.py:530: ConvergenceWarning: Objective did not converge. You might want to increase the number of iterations. Duality gap: 332233886225192.5, tolerance: 240875827884.3236\n",
      "  model = cd_fast.enet_coordinate_descent(\n"
     ]
    },
    {
     "name": "stdout",
     "output_type": "stream",
     "text": [
      "[4.07998490e+10 4.07998489e+10 4.07998487e+10 4.07998485e+10\n",
      " 4.07998482e+10 4.07998477e+10 4.07998471e+10 4.07998464e+10\n",
      " 4.07998461e+10 4.07998471e+10]\n"
     ]
    },
    {
     "name": "stderr",
     "output_type": "stream",
     "text": [
      "C:\\Users\\Orlando\\Anaconda3\\lib\\site-packages\\sklearn\\linear_model\\_coordinate_descent.py:530: ConvergenceWarning: Objective did not converge. You might want to increase the number of iterations. Duality gap: 325240958320175.5, tolerance: 237695071763.90872\n",
      "  model = cd_fast.enet_coordinate_descent(\n"
     ]
    }
   ],
   "source": [
    "penalidad_l1 = np.logspace(-1, 0.7, num=10)\n",
    "mse = np.empty(len(penalidad_l1))\n",
    "data = ventas_entre_val[atributos]\n",
    "data.loc[:,'price'] = ventas_entre_val['price']\n",
    "for i in range(len(penalidad_l1)):\n",
    "    mse[i] = validacion_cruzada_k_fold(Lasso, 10, penalidad_l1[i], data, 'price', atributos)\n",
    "print (mse)"
   ]
  },
  {
   "cell_type": "code",
   "execution_count": 21,
   "metadata": {},
   "outputs": [
    {
     "name": "stdout",
     "output_type": "stream",
     "text": [
      "alfa =  0.1\n",
      "MSE = 40799846058.53871\n"
     ]
    },
    {
     "data": {
      "image/png": "[encoded data removed]",
      "text/plain": [
       "<Figure size 432x288 with 1 Axes>"
      ]
     },
     "metadata": {
      "needs_background": "light"
     },
     "output_type": "display_data"
    }
   ],
   "source": [
    "# Graficar los valores de la penalizacion_l1 en el eje xy el error de validación cruzada en el eje y.\n",
    "# El uso de plt.xscale ('log') hará que su trazado sea más intuitivo. \n",
    "alfa = penalidad_l1[np.argmax(mse)]\n",
    "print('alfa = ', alfa )\n",
    "print('MSE =', mse[np.argmin(mse)])\n",
    "plt.plot(penalidad_l1, mse,'.')\n",
    "plt.xscale('log')"
   ]
  },
  {
   "cell_type": "code",
   "execution_count": 23,
   "metadata": {},
   "outputs": [
    {
     "name": "stdout",
     "output_type": "stream",
     "text": [
      "MSE = 39950564313.38477\n",
      "Polinomio de grado 18:\n",
      "         18         17             16             15         14\n",
      "-0.3541 x  + 21.81 x  - 2.181e+05 x  + 6.052e+05 x  - 582.9 x \n",
      "          13        12         11         10             9\n",
      " + 23.89 x  - 2592 x  - 137.4 x  - 103.6 x  + 9.568e+04 x\n",
      "              8             7             6        5          4\n",
      " + 2.667e+04 x + 5.355e+04 x + 6.078e+05 x + 5826 x + 0.1111 x\n",
      "          3             2\n",
      " + 283.6 x + 4.158e+04 x - 3.391e+04 x + 6.157e+06\n"
     ]
    },
    {
     "name": "stderr",
     "output_type": "stream",
     "text": [
      "C:\\Users\\Orlando\\Anaconda3\\lib\\site-packages\\sklearn\\linear_model\\_coordinate_descent.py:530: ConvergenceWarning: Objective did not converge. You might want to increase the number of iterations. Duality gap: 359708941492768.4, tolerance: 263040116485.40506\n",
      "  model = cd_fast.enet_coordinate_descent(\n"
     ]
    }
   ],
   "source": [
    "modeloLasso = Lasso(alpha=0.1)\n",
    "modeloLasso.fit(X, y)\n",
    "mse = mean_squared_error(y_prueba, modeloLasso.predict(X_prueba))\n",
    "print('MSE =', mse )\n",
    "imprimir_coefficientes(modeloLasso)"
   ]
  },
  {
   "cell_type": "markdown",
   "metadata": {},
   "source": [
    "### Valor de los coefficientes con respecto al valor de la penalización. Regresión Lineal Lasso\n",
    "\n",
    "Los valores de los coeeficientes se van haciendo igual a cero a medida que se incrementa el valor de la penalización (alfa)\n",
    "\n",
    "<img src=\"figuras/lasso_coefficientes.png\" width=\"75%\">\n",
    "\n",
    "\n",
    "Contornos de la función de penalización y el error para la Regresión Lineal Lasso\n",
    "\n",
    "<img src=\"figuras/estimacion_lasso.png\" width=\"75%\">"
   ]
  },
  {
   "cell_type": "code",
   "execution_count": null,
   "metadata": {},
   "outputs": [],
   "source": []
  }
 ],
 "metadata": {
  "anaconda-cloud": {},
  "kernelspec": {
   "display_name": "Python 3 (ipykernel)",
   "language": "python",
   "name": "python3"
  },
  "language_info": {
   "codemirror_mode": {
    "name": "ipython",
    "version": 3
   },
   "file_extension": ".py",
   "mimetype": "text/x-python",
   "name": "python",
   "nbconvert_exporter": "python",
   "pygments_lexer": "ipython3",
   "version": "3.9.7"
  }
 },
 "nbformat": 4,
 "nbformat_minor": 4
}
