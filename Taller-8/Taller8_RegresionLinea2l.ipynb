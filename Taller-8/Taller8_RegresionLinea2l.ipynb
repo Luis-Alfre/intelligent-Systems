{
 "cells": [
  {
   "cell_type": "markdown",
   "metadata": {},
   "source": [
    "# Tarea 3 sobre Regresión Lineal"
   ]
  },
  {
   "cell_type": "markdown",
   "metadata": {},
   "source": [
    "Predecir el precio de las casas usando algunos de los siguientes conjuntos:\n",
    "el conjunto de datos de vivienda de California, que puede cargar de la siguiente forma\n",
    "from sklearn.datasets import fetch_california_housing\n",
    "housing = fetch_california_housing()\n",
    "\n",
    "O  el conjunto de datos de vivienda de Ames [4].\n",
    "from sklearn.datasets import fetch_openml\n",
    "housing = fetch_openml(name=\"house_prices\", as_frame=True)\n",
    "\n"
   ]
  },
  {
   "cell_type": "code",
   "execution_count": 3,
   "metadata": {
    "tags": []
   },
   "outputs": [],
   "source": [
    "# Importar las librerías necesarias\n",
    "from sklearn.linear_model import LinearRegression, Lasso, Ridge\n",
    "from sklearn.model_selection import train_test_split\n",
    "from sklearn.datasets import fetch_california_housing\n",
    "import numpy as np\n",
    "import pandas as pd\n",
    "from sklearn.metrics import mean_squared_error\n",
    "from matplotlib import pyplot as plt\n",
    "%matplotlib inline"
   ]
  },
  {
   "cell_type": "code",
   "execution_count": 2,
   "metadata": {
    "tags": []
   },
   "outputs": [
    {
     "ename": "NameError",
     "evalue": "name 'fetch_california_housing' is not defined",
     "output_type": "error",
     "traceback": [
      "\u001b[0;31m---------------------------------------------------------------------------\u001b[0m",
      "\u001b[0;31mNameError\u001b[0m                                 Traceback (most recent call last)",
      "\u001b[1;32m/home/luis/Documentos/Universidad/intelligent-Systems/Taller-8/Taller8_RegresionLinea2l.ipynb Cell 4'\u001b[0m in \u001b[0;36m<cell line: 2>\u001b[0;34m()\u001b[0m\n\u001b[1;32m      <a href='vscode-notebook-cell:/home/luis/Documentos/Universidad/intelligent-Systems/Taller-8/Taller8_RegresionLinea2l.ipynb#ch0000003?line=0'>1</a>\u001b[0m \u001b[39m# 1. Leer el conjunto de datos a un dataframe de Pandas\u001b[39;00m\n\u001b[0;32m----> <a href='vscode-notebook-cell:/home/luis/Documentos/Universidad/intelligent-Systems/Taller-8/Taller8_RegresionLinea2l.ipynb#ch0000003?line=1'>2</a>\u001b[0m housing \u001b[39m=\u001b[39m fetch_california_housing()\n\u001b[1;32m      <a href='vscode-notebook-cell:/home/luis/Documentos/Universidad/intelligent-Systems/Taller-8/Taller8_RegresionLinea2l.ipynb#ch0000003?line=2'>3</a>\u001b[0m df \u001b[39m=\u001b[39m pd\u001b[39m.\u001b[39mDataFrame(housing\u001b[39m.\u001b[39mdata, columns\u001b[39m=\u001b[39mhousing\u001b[39m.\u001b[39mfeature_names)\n\u001b[1;32m      <a href='vscode-notebook-cell:/home/luis/Documentos/Universidad/intelligent-Systems/Taller-8/Taller8_RegresionLinea2l.ipynb#ch0000003?line=3'>4</a>\u001b[0m \u001b[39m#df['target'] = housing.target_names\u001b[39;00m\n",
      "\u001b[0;31mNameError\u001b[0m: name 'fetch_california_housing' is not defined"
     ]
    }
   ],
   "source": [
    "# 1. Leer el conjunto de datos a un dataframe de Pandas\n",
    "housing = fetch_california_housing()\n",
    "df = pd.DataFrame(housing.data, columns=housing.feature_names)\n",
    "#df['target'] = housing.target_names\n",
    "df.head()\n",
    "\n",
    "df['Target'] = housing.target\n",
    "df.head()\n",
    "#housing.target_names"
   ]
  },
  {
   "cell_type": "code",
   "execution_count": null,
   "metadata": {},
   "outputs": [
    {
     "ename": "",
     "evalue": "",
     "output_type": "error",
     "traceback": [
      "\u001b[1;31mRunning cells with 'Python 3.10.4 64-bit' requires ipykernel package.\n",
      "Run the following command to install 'ipykernel' into the Python environment. \n",
      "Command: '/bin/python -m pip install ipykernel -U --user --force-reinstall'"
     ]
    }
   ],
   "source": [
    "housing"
   ]
  },
  {
   "cell_type": "markdown",
   "metadata": {},
   "source": [
    "El resultado de fetch_california_housing es un objeto similar a un diccionario con cuatro componentes: ['target', 'data', 'DESCR', 'feature_names']:\n",
    "\n",
    "- datos['target'] - 1D matriz numpy de valores de atributo destino (objetivo)\n",
    "- datos['data'] - 2D numpy array de valores de los atributos\n",
    "- datos['feature_names'] - 1D numpy array de nombres de los atributos\n",
    "- datos['DESCR'] - descripción del conjunto de datos\n",
    "\n",
    "Así que es fácil convertirlo en un pandas DataFrame."
   ]
  },
  {
   "cell_type": "code",
   "execution_count": null,
   "metadata": {
    "collapsed": true,
    "jupyter": {
     "outputs_hidden": true
    }
   },
   "outputs": [],
   "source": [
    "# 2. Imprimir la descripción del conjunto de datos\n"
   ]
  },
  {
   "cell_type": "code",
   "execution_count": null,
   "metadata": {
    "collapsed": true,
    "jupyter": {
     "outputs_hidden": true
    }
   },
   "outputs": [],
   "source": [
    "# 3. Imprimir el tamaño del conjunto de datos (shape)\n"
   ]
  },
  {
   "cell_type": "code",
   "execution_count": null,
   "metadata": {
    "collapsed": true,
    "jupyter": {
     "outputs_hidden": true
    }
   },
   "outputs": [],
   "source": [
    "# 4. Graficar alguno de los atributos contra la variable objetivo (target)\n"
   ]
  },
  {
   "cell_type": "code",
   "execution_count": null,
   "metadata": {
    "collapsed": true,
    "jupyter": {
     "outputs_hidden": true
    }
   },
   "outputs": [],
   "source": [
    "# 5. Dividir el conjunto de datos en un conjunto de entrenamiento y uno de prueba. Usar random_state=0\n"
   ]
  },
  {
   "cell_type": "code",
   "execution_count": null,
   "metadata": {
    "collapsed": true,
    "jupyter": {
     "outputs_hidden": true
    }
   },
   "outputs": [],
   "source": [
    "# 6. Crear un objeto LinearRegression y entrenarlo con el conjunto de entrenamiento\n"
   ]
  },
  {
   "cell_type": "code",
   "execution_count": null,
   "metadata": {
    "collapsed": true,
    "jupyter": {
     "outputs_hidden": true
    }
   },
   "outputs": [],
   "source": [
    "# 7. Calcular RMSE sobre el conjunto de prueba. (RMSE = sqrt(MSE)) y (MSE = mean_square_error)\n"
   ]
  },
  {
   "cell_type": "code",
   "execution_count": 20,
   "metadata": {
    "tags": []
   },
   "outputs": [],
   "source": [
    "# 8. Seleccionar el atributo MedInc y repetir preguntas 5, 6 y 7\n"
   ]
  },
  {
   "cell_type": "code",
   "execution_count": 21,
   "metadata": {
    "tags": []
   },
   "outputs": [],
   "source": [
    "# 9. Con el atributo MedInc realizar regresion polinomial con grados = 2,4,8 y 16. Repetir preguntas 5, 6 y 7 \n",
    "# para cada uno de los grados del polinomio.\n"
   ]
  },
  {
   "cell_type": "code",
   "execution_count": null,
   "metadata": {
    "collapsed": true,
    "jupyter": {
     "outputs_hidden": true
    }
   },
   "outputs": [],
   "source": [
    "# 10. Realizar Regresion Lineal Ridge. Usando un alfa = 0.5. Calcular el RMSE sobre el conjunto de prueba\n"
   ]
  },
  {
   "cell_type": "code",
   "execution_count": null,
   "metadata": {
    "collapsed": true,
    "jupyter": {
     "outputs_hidden": true
    }
   },
   "outputs": [],
   "source": [
    "# 11. Realizar validacion cruzada 10_fold. Calcular el RMSE promedio.\n"
   ]
  },
  {
   "cell_type": "code",
   "execution_count": null,
   "metadata": {
    "collapsed": true,
    "jupyter": {
     "outputs_hidden": true
    }
   },
   "outputs": [],
   "source": [
    "# 12. Encontra el mejor valor de alfa. Usando Para alfa = np.linspace(.01,20,50). \n"
   ]
  },
  {
   "cell_type": "code",
   "execution_count": null,
   "metadata": {
    "collapsed": true,
    "jupyter": {
     "outputs_hidden": true
    }
   },
   "outputs": [],
   "source": [
    "# 13. Graficar el error de validación con respecto al valor de la penalización\n"
   ]
  },
  {
   "cell_type": "code",
   "execution_count": null,
   "metadata": {
    "collapsed": true,
    "jupyter": {
     "outputs_hidden": true
    }
   },
   "outputs": [],
   "source": [
    "# 14. Con el mejor valor de alfa. Calcular el RMSE sobre el conjunto de prueba\n"
   ]
  },
  {
   "cell_type": "code",
   "execution_count": null,
   "metadata": {
    "collapsed": true,
    "jupyter": {
     "outputs_hidden": true
    }
   },
   "outputs": [],
   "source": [
    "# 15. Encontrar los dos atributos más importantes usando Regresion Lineal Lasso. \n",
    "# Probar con diferentes valores de alfa hasta que solo haya dos coefficientes diferentes a cero\n"
   ]
  }
 ],
 "metadata": {
  "anaconda-cloud": {},
  "kernelspec": {
   "display_name": "Python 3 (ipykernel)",
   "language": "python",
   "name": "python3"
  },
  "language_info": {
   "codemirror_mode": {
    "name": "ipython",
    "version": 3
   },
   "file_extension": ".py",
   "mimetype": "text/x-python",
   "name": "python",
   "nbconvert_exporter": "python",
   "pygments_lexer": "ipython3",
   "version": "3.10.4"
  }
 },
 "nbformat": 4,
 "nbformat_minor": 4
}
